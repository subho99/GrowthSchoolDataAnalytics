{
  "nbformat": 4,
  "nbformat_minor": 0,
  "metadata": {
    "colab": {
      "provenance": [],
      "authorship_tag": "ABX9TyMCSAMFI8X7BCH36h1G/Rlo",
      "include_colab_link": true
    },
    "kernelspec": {
      "name": "python3",
      "display_name": "Python 3"
    },
    "language_info": {
      "name": "python"
    }
  },
  "cells": [
    {
      "cell_type": "markdown",
      "metadata": {
        "id": "view-in-github",
        "colab_type": "text"
      },
      "source": [
        "<a href=\"https://colab.research.google.com/github/subho99/GrowthSchoolDataAnalytics/blob/main/GrowthSchool_Python_Assignment1.ipynb\" target=\"_parent\"><img src=\"https://colab.research.google.com/assets/colab-badge.svg\" alt=\"Open In Colab\"/></a>"
      ]
    },
    {
      "cell_type": "markdown",
      "source": [
        "# TASK 1"
      ],
      "metadata": {
        "id": "0ljhQ80ml0Od"
      }
    },
    {
      "cell_type": "markdown",
      "source": [
        "Suppose you are the owner of a grocery shop. So, make a dictionary of items and their prices present in your shop, to track for your internal purpose.\n",
        "\n",
        "\n",
        "d = {chips: 50, snacks: 80, chocolate: 50} and so on\n",
        "Now ask the user one by one what all the things he/she wants to buy. Ask at each iteration if the user wants to add more items to his cart. If yes, show all the options present and ask them to type one of them. Also ask the quantity how much they want to buy in the whole number like1,2,3, etc.\n",
        "\n",
        "\n",
        "If the users type no, Calculate the total amount and display what all items have been added into their bill and amount for each item along with the total billing amount.\n",
        "\n",
        "\n",
        "Also handle the situation, for if the user selects a wrong item not present in the list display the message Wrong Item Selected and ask for input again."
      ],
      "metadata": {
        "id": "XI7s6lYnl8i6"
      }
    },
    {
      "cell_type": "code",
      "execution_count": 1,
      "metadata": {
        "colab": {
          "base_uri": "https://localhost:8080/"
        },
        "id": "CDZSGCoWk3uh",
        "outputId": "9f8ed16e-31e5-4f96-f820-2947f3aaa580"
      },
      "outputs": [
        {
          "output_type": "stream",
          "name": "stdout",
          "text": [
            "Welcome to our Store ....\n",
            "Here is a list of products we have in our store :  ['chips', 'snacks', 'chocolate']\n",
            "Enter the item you want to buy : snacks\n",
            "Enter the unit of quantity you want to buy : 5\n",
            "Do you wish to continue and buy more products ? y/n : y\n",
            "Welcome to our Store ....\n",
            "Here is a list of products we have in our store :  ['chips', 'snacks', 'chocolate']\n",
            "Enter the item you want to buy : chocolate\n",
            "Enter the unit of quantity you want to buy : 2\n",
            "Do you wish to continue and buy more products ? y/n : y\n",
            "Welcome to our Store ....\n",
            "Here is a list of products we have in our store :  ['chips', 'snacks', 'chocolate']\n",
            "Enter the item you want to buy : chips\n",
            "Enter the unit of quantity you want to buy : 10\n",
            "Do you wish to continue and buy more products ? y/n : n\n",
            "Thank you for visiting our store\n",
            "Here's a list of items you selected\n",
            "Item\tQty\tPerUnitPrice\tAmt\n",
            "snacks\t5\t80\t400\n",
            "chocolate\t2\t50\t100\n",
            "chips\t10\t50\t500\n",
            "\n",
            "Your Total Amount is 1000\n"
          ]
        }
      ],
      "source": [
        "def main():\n",
        "    # Store inventory\n",
        "    inventory = {'chips': 50, 'snacks': 80, 'chocolate': 50}\n",
        "\n",
        "    # Shopping cart\n",
        "    cart = {}\n",
        "\n",
        "    while True:\n",
        "        # Show available products\n",
        "        print(\"Welcome to our Store ....\")\n",
        "        print(\"Here is a list of products we have in our store : \", list(inventory.keys()))\n",
        "\n",
        "        # Ask for user input\n",
        "        item = input(\"Enter the item you want to buy : \").lower()\n",
        "        if item not in inventory:\n",
        "            print(\"Wrong item selected...\")\n",
        "            continue\n",
        "\n",
        "        # Ask for quantity\n",
        "        quantity = int(input(f\"Enter the unit of quantity you want to buy : \"))\n",
        "\n",
        "        # Add or update in cart\n",
        "        cart[item] = cart.get(item, 0) + quantity\n",
        "\n",
        "        # Ask if user wants to continue shopping\n",
        "        more = input(\"Do you wish to continue and buy more products ? y/n : \").lower()\n",
        "        if more != 'y':\n",
        "            break\n",
        "\n",
        "    # Calculate the total amount\n",
        "    total_amount = sum(inventory[item] * quantity for item, quantity in cart.items())\n",
        "\n",
        "    # Printing the bill\n",
        "    print(\"Thank you for visiting our store\")\n",
        "    print(\"Here's a list of items you selected\")\n",
        "    print(\"Item\\tQty\\tPerUnitPrice\\tAmt\")\n",
        "    for item, quantity in cart.items():\n",
        "        print(f\"{item}\\t{quantity}\\t{inventory[item]}\\t{inventory[item] * quantity}\")\n",
        "    print(\"\\nYour Total Amount is\", total_amount)\n",
        "\n",
        "# Run the program in Google Colab\n",
        "main()\n"
      ]
    },
    {
      "cell_type": "markdown",
      "source": [
        "# TASK 2"
      ],
      "metadata": {
        "id": "X9r6l_Jjl_XS"
      }
    },
    {
      "cell_type": "markdown",
      "source": [
        "Create a function in Python to take two lists as parameters and add the elements consecutively.\n",
        "Eg:\n",
        "Input:\n",
        "L1 = [1,2,3,4,5]\n",
        "L2 = [2,3,4,5,6]\n",
        "Output:\n",
        "[3,5,7,9,11]"
      ],
      "metadata": {
        "id": "D3tGoJ1JmByp"
      }
    },
    {
      "cell_type": "markdown",
      "source": [
        "Program Type - Fixed Input"
      ],
      "metadata": {
        "id": "sSFg27CvmS0i"
      }
    },
    {
      "cell_type": "code",
      "source": [
        "# Define the function to add elements of two lists consecutively\n",
        "def add_lists_consecutively(list1, list2):\n",
        "    # Check if the lists are of the same length\n",
        "    if len(list1) != len(list2):\n",
        "        print(\"Error: Lists are not of the same length.\")\n",
        "        return None\n",
        "\n",
        "    # Using list comprehension to add corresponding elements\n",
        "    return [x + y for x, y in zip(list1, list2)]\n",
        "\n",
        "# Example usage:\n",
        "L1 = [1, 2, 3, 4, 5]\n",
        "L2 = [2, 3, 4, 5, 6]\n",
        "result = add_lists_consecutively(L1, L2)\n",
        "print(result)"
      ],
      "metadata": {
        "colab": {
          "base_uri": "https://localhost:8080/"
        },
        "id": "gfvFm5UXmK86",
        "outputId": "bd97b99a-f278-4795-d8c6-88cdfe7da361"
      },
      "execution_count": 2,
      "outputs": [
        {
          "output_type": "stream",
          "name": "stdout",
          "text": [
            "[3, 5, 7, 9, 11]\n"
          ]
        }
      ]
    },
    {
      "cell_type": "markdown",
      "source": [
        "Program Type - User Input Allowed"
      ],
      "metadata": {
        "id": "KD6Dw0FumW1F"
      }
    },
    {
      "cell_type": "code",
      "source": [
        "# Define the function to add elements of two lists consecutively\n",
        "def add_lists_consecutively(list1, list2):\n",
        "    # Check if the lists are of the same length\n",
        "    if len(list1) != len(list2):\n",
        "        print(\"Error: Lists are not of the same length.\")\n",
        "        return None\n",
        "\n",
        "    # Using list comprehension to add corresponding elements\n",
        "    return [x + y for x, y in zip(list1, list2)]\n",
        "\n",
        "# Function to convert input string to a list of integers\n",
        "def input_to_list(input_string):\n",
        "    return [int(item.strip()) for item in input_string.split(',')]\n",
        "\n",
        "# Get user input for the two lists\n",
        "input_string1 = input(\"Enter elements of the first list separated by commas: \")\n",
        "input_string2 = input(\"Enter elements of the second list separated by commas: \")\n",
        "\n",
        "# Convert the input string to lists\n",
        "L1 = input_to_list(input_string1)\n",
        "L2 = input_to_list(input_string2)\n",
        "\n",
        "# Call the function and print the result\n",
        "result = add_lists_consecutively(L1, L2)\n",
        "if result is not None:\n",
        "    print(\"The result of consecutively adding the lists is:\", result)\n"
      ],
      "metadata": {
        "colab": {
          "base_uri": "https://localhost:8080/"
        },
        "id": "RRYmh5t3nwpK",
        "outputId": "5ac8b029-6c4e-4254-daf4-8bab63c5f020"
      },
      "execution_count": 3,
      "outputs": [
        {
          "output_type": "stream",
          "name": "stdout",
          "text": [
            "Enter elements of the first list separated by commas: 1,2,3,4,5,6\n",
            "Enter elements of the second list separated by commas: 6,5,4,3,2,1\n",
            "The result of consecutively adding the lists is: [7, 7, 7, 7, 7, 7]\n"
          ]
        }
      ]
    }
  ]
}